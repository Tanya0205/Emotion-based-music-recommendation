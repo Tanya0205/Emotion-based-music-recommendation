{
 "cells": [
  {
   "cell_type": "code",
   "execution_count": 2,
   "id": "6048cdb8-86b8-4da8-8862-6b780f11c606",
   "metadata": {},
   "outputs": [
    {
     "name": "stdout",
     "output_type": "stream",
     "text": [
      "Requirement already satisfied: mediapipe in c:\\users\\tanya\\anaconda3\\lib\\site-packages (0.10.14)\n",
      "Requirement already satisfied: absl-py in c:\\users\\tanya\\anaconda3\\lib\\site-packages (from mediapipe) (2.1.0)\n",
      "Requirement already satisfied: attrs>=19.1.0 in c:\\users\\tanya\\anaconda3\\lib\\site-packages (from mediapipe) (23.1.0)\n",
      "Requirement already satisfied: flatbuffers>=2.0 in c:\\users\\tanya\\anaconda3\\lib\\site-packages (from mediapipe) (24.3.25)\n",
      "Requirement already satisfied: jax in c:\\users\\tanya\\anaconda3\\lib\\site-packages (from mediapipe) (0.4.30)\n",
      "Requirement already satisfied: jaxlib in c:\\users\\tanya\\anaconda3\\lib\\site-packages (from mediapipe) (0.4.30)\n",
      "Requirement already satisfied: matplotlib in c:\\users\\tanya\\anaconda3\\lib\\site-packages (from mediapipe) (3.8.4)\n",
      "Requirement already satisfied: numpy in c:\\users\\tanya\\anaconda3\\lib\\site-packages (from mediapipe) (1.26.4)\n",
      "Requirement already satisfied: opencv-contrib-python in c:\\users\\tanya\\anaconda3\\lib\\site-packages (from mediapipe) (4.10.0.84)\n",
      "Requirement already satisfied: protobuf<5,>=4.25.3 in c:\\users\\tanya\\anaconda3\\lib\\site-packages (from mediapipe) (4.25.3)\n",
      "Requirement already satisfied: sounddevice>=0.4.4 in c:\\users\\tanya\\anaconda3\\lib\\site-packages (from mediapipe) (0.4.7)\n",
      "Requirement already satisfied: CFFI>=1.0 in c:\\users\\tanya\\anaconda3\\lib\\site-packages (from sounddevice>=0.4.4->mediapipe) (1.16.0)\n",
      "Requirement already satisfied: ml-dtypes>=0.2.0 in c:\\users\\tanya\\anaconda3\\lib\\site-packages (from jax->mediapipe) (0.4.0)\n",
      "Requirement already satisfied: opt-einsum in c:\\users\\tanya\\anaconda3\\lib\\site-packages (from jax->mediapipe) (3.3.0)\n",
      "Requirement already satisfied: scipy>=1.9 in c:\\users\\tanya\\anaconda3\\lib\\site-packages (from jax->mediapipe) (1.13.1)\n",
      "Requirement already satisfied: contourpy>=1.0.1 in c:\\users\\tanya\\anaconda3\\lib\\site-packages (from matplotlib->mediapipe) (1.2.0)\n",
      "Requirement already satisfied: cycler>=0.10 in c:\\users\\tanya\\anaconda3\\lib\\site-packages (from matplotlib->mediapipe) (0.11.0)\n",
      "Requirement already satisfied: fonttools>=4.22.0 in c:\\users\\tanya\\anaconda3\\lib\\site-packages (from matplotlib->mediapipe) (4.51.0)\n",
      "Requirement already satisfied: kiwisolver>=1.3.1 in c:\\users\\tanya\\anaconda3\\lib\\site-packages (from matplotlib->mediapipe) (1.4.4)\n",
      "Requirement already satisfied: packaging>=20.0 in c:\\users\\tanya\\anaconda3\\lib\\site-packages (from matplotlib->mediapipe) (23.2)\n",
      "Requirement already satisfied: pillow>=8 in c:\\users\\tanya\\anaconda3\\lib\\site-packages (from matplotlib->mediapipe) (10.3.0)\n",
      "Requirement already satisfied: pyparsing>=2.3.1 in c:\\users\\tanya\\anaconda3\\lib\\site-packages (from matplotlib->mediapipe) (3.0.9)\n",
      "Requirement already satisfied: python-dateutil>=2.7 in c:\\users\\tanya\\anaconda3\\lib\\site-packages (from matplotlib->mediapipe) (2.9.0.post0)\n",
      "Requirement already satisfied: pycparser in c:\\users\\tanya\\anaconda3\\lib\\site-packages (from CFFI>=1.0->sounddevice>=0.4.4->mediapipe) (2.21)\n",
      "Requirement already satisfied: six>=1.5 in c:\\users\\tanya\\anaconda3\\lib\\site-packages (from python-dateutil>=2.7->matplotlib->mediapipe) (1.16.0)\n",
      "Note: you may need to restart the kernel to use updated packages.\n"
     ]
    }
   ],
   "source": [
    "pip install mediapipe"
   ]
  },
  {
   "cell_type": "code",
   "execution_count": 3,
   "id": "30370495-45c8-4aca-a4b2-dbe7f57a5c9e",
   "metadata": {},
   "outputs": [],
   "source": [
    "import mediapipe as mp\n",
    "import numpy as np\n",
    "import cv2"
   ]
  },
  {
   "cell_type": "code",
   "execution_count": null,
   "id": "f55189ac-ad3b-47cc-a094-945f36413772",
   "metadata": {},
   "outputs": [],
   "source": [
    "cap = cv2.VideoCapture(0)\n",
    "name = input(\"Enter the name of the data : \")\n",
    "\n",
    "holistic = mp.solutions.holistic\n",
    "hands = mp.solutions.hands\n",
    "holis = holistic.Holistic()\n",
    "drawing = mp.solutions.drawing_utils\n",
    "\n",
    "X = []\n",
    "data_size = 0\n",
    "\n",
    "while True:\n",
    "\tlst = []\n",
    "\n",
    "\t_, frm = cap.read()\n",
    "\n",
    "\tfrm = cv2.flip(frm, 1)\n",
    "\n",
    "\tres = holis.process(cv2.cvtColor(frm, cv2.COLOR_BGR2RGB))\n",
    "\n",
    "\n",
    "\tif res.face_landmarks:\n",
    "\t\tfor i in res.face_landmarks.landmark:\n",
    "\t\t\tlst.append(i.x - res.face_landmarks.landmark[1].x)\n",
    "\t\t\tlst.append(i.y - res.face_landmarks.landmark[1].y)\n",
    "\n",
    "\t\tif res.left_hand_landmarks:\n",
    "\t\t\tfor i in res.left_hand_landmarks.landmark:\n",
    "\t\t\t\tlst.append(i.x - res.left_hand_landmarks.landmark[8].x)\n",
    "\t\t\t\tlst.append(i.y - res.left_hand_landmarks.landmark[8].y)\n",
    "\t\telse:\n",
    "\t\t\tfor i in range(42):\n",
    "\t\t\t\tlst.append(0.0)\n",
    "\n",
    "\t\tif res.right_hand_landmarks:\n",
    "\t\t\tfor i in res.right_hand_landmarks.landmark:\n",
    "\t\t\t\tlst.append(i.x - res.right_hand_landmarks.landmark[8].x)\n",
    "\t\t\t\tlst.append(i.y - res.right_hand_landmarks.landmark[8].y)\n",
    "\t\telse:\n",
    "\t\t\tfor i in range(42):\n",
    "\t\t\t\tlst.append(0.0)\n",
    "\n",
    "\n",
    "\t\tX.append(lst)\n",
    "\t\tdata_size = data_size+1\n",
    "\n",
    "\n",
    "\n",
    "\tdrawing.draw_landmarks(frm, res.face_landmarks, holistic.FACEMESH_CONTOURS)\n",
    "\tdrawing.draw_landmarks(frm, res.left_hand_landmarks, hands.HAND_CONNECTIONS)\n",
    "\tdrawing.draw_landmarks(frm, res.right_hand_landmarks, hands.HAND_CONNECTIONS)\n",
    "\n",
    "\tcv2.putText(frm, str(data_size), (50,50), cv2.FONT_HERSHEY_SIMPLEX, 1, (0,255,0),2)\n",
    "\n",
    "\tcv2.imshow(\"window\", frm)\n",
    "\n",
    "\tif cv2.waitKey(1) == 27 or data_size>99:\n",
    "\t\tcv2.destroyAllWindows()\n",
    "\t\tcap.release()\n",
    "\t\tbreak\n",
    "\n",
    "\n",
    "np.save(f\"{name}.npy\", np.array(X))\n",
    "print(np.array(X).shape)"
   ]
  },
  {
   "cell_type": "code",
   "execution_count": null,
   "id": "e424374a-6f5a-4f37-957b-0011c9d1c185",
   "metadata": {},
   "outputs": [],
   "source": []
  }
 ],
 "metadata": {
  "kernelspec": {
   "display_name": "Python 3 (ipykernel)",
   "language": "python",
   "name": "python3"
  },
  "language_info": {
   "codemirror_mode": {
    "name": "ipython",
    "version": 3
   },
   "file_extension": ".py",
   "mimetype": "text/x-python",
   "name": "python",
   "nbconvert_exporter": "python",
   "pygments_lexer": "ipython3",
   "version": "3.12.4"
  }
 },
 "nbformat": 4,
 "nbformat_minor": 5
}
